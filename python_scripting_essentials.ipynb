{
 "cells": [
  {
   "cell_type": "markdown",
   "id": "606fa91b",
   "metadata": {},
   "source": [
    "# Python Scripting Essentials for Beginners"
   ]
  },
  {
   "cell_type": "markdown",
   "id": "f34c8925",
   "metadata": {},
   "source": [
    "## 1. OOP: Encapsulation and Inheritance\n",
    "### Encapsulation\n",
    "hide the complex details"
   ]
  },
  {
   "cell_type": "code",
   "execution_count": 1,
   "id": "da8121d3",
   "metadata": {},
   "outputs": [
    {
     "name": "stdout",
     "output_type": "stream",
     "text": [
      "Woof! I am Fido\n",
      "Fido\n"
     ]
    }
   ],
   "source": [
    "class Dog:\n",
    "    def __init__(self, name):\n",
    "        self.__name = name  # private attribute\n",
    "\n",
    "    def speak(self):\n",
    "        return f\"Woof! I am {self.__name}\"\n",
    "\n",
    "    def get_name(self):\n",
    "        return self.__name\n",
    "\n",
    "dog = Dog(\"Fido\")\n",
    "print(dog.speak())\n",
    "print(dog.get_name())"
   ]
  },
  {
   "cell_type": "markdown",
   "id": "510cd86f",
   "metadata": {},
   "source": [
    "### Inheritance"
   ]
  },
  {
   "cell_type": "code",
   "execution_count": 3,
   "id": "88e52a13",
   "metadata": {},
   "outputs": [
    {
     "data": {
      "text/plain": [
       "'Some sound'"
      ]
     },
     "execution_count": 3,
     "metadata": {},
     "output_type": "execute_result"
    }
   ],
   "source": [
    "class Animal:\n",
    "    def __init__(self, species):\n",
    "        self.species = species\n",
    "\n",
    "    def make_sound(self):\n",
    "        return \"Some sound\"\n",
    "\n",
    "class Cat(Animal):\n",
    "    def __init__(self, name):\n",
    "        super().__init__(\"Cat\")\n",
    "        self.__name = name\n",
    "\n",
    "    def make_sound(self): # overwrite\n",
    "        return \"Meow\"\n",
    "\n",
    "    def get_name(self):\n",
    "        return self.__name\n",
    "\n",
    "cat = Cat(\"Whiskers\")\n",
    "# cat.species\n",
    "cat.make_sound()\n",
    "\n"
   ]
  },
  {
   "cell_type": "markdown",
   "id": "65a01b73",
   "metadata": {},
   "source": [
    "### Polymorphism\n",
    "\n",
    "strong type c/java\n",
    "int variable = 1;\n",
    "variable = 'var';\n",
    "\n",
    "weak type\n",
    "variable = 1\n",
    "variable = 'str'"
   ]
  },
  {
   "cell_type": "code",
   "execution_count": 58,
   "id": "e5780243",
   "metadata": {},
   "outputs": [
    {
     "name": "stdout",
     "output_type": "stream",
     "text": [
      "Meow\n",
      "animal here = <__main__.Cat object at 0x107dfd190>\n",
      "Woof! I am Fido\n"
     ]
    }
   ],
   "source": [
    "# Polymorphism Example\n",
    "animals = [Cat(\"Whiskers\"), Dog(\"Fido\")]\n",
    "for animal in animals:\n",
    "    try:\n",
    "        print(animal.make_sound())\n",
    "        print(f\"animal here = {animal}\")\n",
    "    except AttributeError:\n",
    "        print(animal.speak())"
   ]
  },
  {
   "cell_type": "markdown",
   "id": "e234a26b-ea4d-4a52-b185-944dce83780d",
   "metadata": {},
   "source": [
    "### Magic Method"
   ]
  },
  {
   "cell_type": "code",
   "execution_count": 6,
   "id": "f18c0229-12d5-4444-b1ae-4aecb869a1ef",
   "metadata": {
    "scrolled": true
   },
   "outputs": [
    {
     "name": "stdout",
     "output_type": "stream",
     "text": [
      "error occured unsupported operand type(s) for +: 'VectorCannotAdd' and 'VectorCannotAdd'\n",
      "<__main__.VectorCannotAdd object at 0x1061e1b90>\n",
      "----------------------\n",
      "Vector(4, 6)\n",
      "True\n"
     ]
    },
    {
     "data": {
      "text/plain": [
       "5"
      ]
     },
     "execution_count": 6,
     "metadata": {},
     "output_type": "execute_result"
    }
   ],
   "source": [
    "class VectorCannotAdd:\n",
    "    def __init__(self, x, y):\n",
    "        self.x = x\n",
    "        self.y = y\n",
    "v1 = VectorCannotAdd(1, 2)\n",
    "v2 = VectorCannotAdd(3, 4)\n",
    "try:\n",
    "    print(v1 + v2)\n",
    "except TypeError as e:\n",
    "    print(f\"error occured {e}\")\n",
    "print(v1)\n",
    "\n",
    "print(\"----------------------\")\n",
    "\n",
    "class Vector:\n",
    "    def __init__(self, x, y):\n",
    "        self.x = x\n",
    "        self.y = y\n",
    "\n",
    "    def __str__(self):  # Called by str() and print()\n",
    "        return f\"Vector({self.x}, {self.y})\"\n",
    "\n",
    "    def __repr__(self):  # Called by str() and print()\n",
    "        return self.__str__()\n",
    "\n",
    "    def __add__(self, other):  # Called when using the + operator\n",
    "        return Vector(self.x + other.x, self.y + other.y)\n",
    "\n",
    "    def __eq__(self, other):  # Called by == operator\n",
    "        return self.x == other.x and self.y == other.y\n",
    "\n",
    "    def __len__(self):\n",
    "        return 5\n",
    "\n",
    "    def __exit__(self):\n",
    "        pass\n",
    "\n",
    "v1 = Vector(1, 2)\n",
    "v2 = Vector(3, 4)\n",
    "print(v1 + v2)\n",
    "print(v1 == Vector(1, 2))\n",
    "len(v1)\n"
   ]
  },
  {
   "cell_type": "markdown",
   "id": "489eead7",
   "metadata": {},
   "source": [
    "## 2. Exception Handling"
   ]
  },
  {
   "cell_type": "code",
   "execution_count": 12,
   "id": "2ae30dd6",
   "metadata": {},
   "outputs": [
    {
     "name": "stdout",
     "output_type": "stream",
     "text": [
      "You can't divide by zero! division by zero\n",
      "Execution finished\n"
     ]
    }
   ],
   "source": [
    "try:\n",
    "    result = 10 / 0\n",
    "    print(\"This will not be printed\")\n",
    "except Exception as e:\n",
    "    print(\"You can't divide by zero!\", e)\n",
    "finally:\n",
    "    print(\"Execution finished\")"
   ]
  },
  {
   "cell_type": "markdown",
   "id": "66cf97d3",
   "metadata": {},
   "source": [
    "## 3. File I/O\n",
    "\n",
    "### File Opening Modes:\n",
    "- `'r'`: Read (default). File must exist.\n",
    "- `'w'`: Write. Creates a new file or truncates an existing one.\n",
    "- `'a'`: Append. Writes to the end of the file if it exists.\n",
    "- `'x'`: Create. Fails if the file already exists.\n",
    "\n",
    "2nd letter\n",
    "- `'b'`: Binary mode.\n",
    "- `'t'`: Text mode (default).\n",
    "- `'+'`: Read and write mode (can be combined with other modes).\n"
   ]
  },
  {
   "cell_type": "code",
   "execution_count": 17,
   "id": "2d1018ab",
   "metadata": {},
   "outputs": [
    {
     "name": "stdout",
     "output_type": "stream",
     "text": [
      "b'Hello, file!\\nHello, file!\\n'\n",
      "<class 'bytes'>\n",
      "raw text\n",
      "format 1\n"
     ]
    }
   ],
   "source": [
    "# Writing to a file\n",
    "with open(\"example.txt\", \"w\") as file:\n",
    "    file.write(\"Hello, file!\\n\")\n",
    "\n",
    "file = open(\"example.txt\", \"a\")\n",
    "file.write(\"Hello, file!\\n\")\n",
    "file.close()\n",
    "\n",
    "# The `with` statement is used for resource management. It ensures that the file is properly closed after its suite finishes, even if an exception is raised.\n",
    "# Reading from a file\n",
    "with open(\"example.txt\", \"rb\") as file:\n",
    "    content = file.read()\n",
    "    print(content)\n",
    "    print(type(content))\n"
   ]
  },
  {
   "cell_type": "markdown",
   "id": "5d54966c-8dce-4bdd-8fe2-5bdffb7f1e7e",
   "metadata": {},
   "source": [
    "## 4. Common built-in functions and Libraries"
   ]
  },
  {
   "cell_type": "code",
   "execution_count": 48,
   "id": "0c047e5a",
   "metadata": {},
   "outputs": [
    {
     "name": "stdout",
     "output_type": "stream",
     "text": [
      "len: Length of list: 3\n",
      "sum: Sum of list: 6\n",
      "type: Type of string: <class 'str'>\n",
      "sorted: Sorted list: [1, 2, 3]\n",
      "max: Max of two numbers: 20\n",
      "min: Min of two numbers: 10\n",
      "abs: Absolute value: 5\n",
      "\n",
      "---------------- import needed: ------------------\n",
      "\n",
      "math.sqrt: Square root of 16: 4.0\n",
      "random.randint: Random integer between 1 and 10: 9\n",
      "datetime.datetime.now: Current datetime: 2025-04-03 15:04:19.072131\n",
      "statistics.mean: Mean of list: 2.5\n",
      "itertools.combinations: Combinations of [1, 2, 3] taken 2 at a time: (1, 2)(1, 3)(2, 3)\n",
      "collections.Counter: Character frequency count: Counter({'a': 3, 'b': 2, 'c': 1})\n",
      "bisect.insort: List after binary insertion: [1, 3, 4, 5, 7]\n",
      "os.getcwd: Current working directory: /Users/hyu/tutorial\n",
      "sys.version: Python version info: 3.11.11 | packaged by conda-forge | (main, Mar  3 2025, 20:44:07) [Clang 18.1.8 ]\n",
      "json.dumps: JSON string: {\"name\": \"Alice\", \"age\": 30}\n",
      "json.loads: Parsed JSON: {'name': 'Alice', 'age': 30}\n",
      "time.time: Current Unix timestamp: 1743717859.074058\n",
      "re.search: Matched digits in string: 12345\n"
     ]
    }
   ],
   "source": [
    "print(\"len: Length of list:\", len([1, 2, 3]))\n",
    "print(\"sum: Sum of list:\", sum([1, 2, 3]))\n",
    "print(\"type: Type of string:\", type(\"hello\"))\n",
    "print(\"sorted: Sorted list:\", sorted([3, 1, 2]))\n",
    "print(\"max: Max of two numbers:\", max(10, 20))\n",
    "print(\"min: Min of two numbers:\", min(10, 20))\n",
    "print(\"abs: Absolute value:\", abs(-5))\n",
    "\n",
    "\n",
    "print(\"\\n---------------- import needed: ------------------\\n\")\n",
    "import math  # math provides mathematical functions\n",
    "print(\"math.sqrt: Square root of 16:\", math.sqrt(16))\n",
    "\n",
    "import random  # random generates pseudo-random numbers\n",
    "print(\"random.randint: Random integer between 1 and 10:\", random.randint(1, 10))\n",
    "\n",
    "import datetime  # datetime allows date and time manipulation\n",
    "print(\"datetime.datetime.now: Current datetime:\", datetime.datetime.now())\n",
    "\n",
    "import statistics  # statistics provides functions for mathematical statistics\n",
    "print(\"statistics.mean: Mean of list:\", statistics.mean([1, 2, 3, 4]))\n",
    "\n",
    "import itertools  # itertools provides tools for creating iterators\n",
    "print(\"itertools.combinations: Combinations of [1, 2, 3] taken 2 at a time: \", end=\"\")\n",
    "for combo in itertools.combinations([1, 2, 3], 2):\n",
    "    print(combo, end=\"\")\n",
    "print(\"\")\n",
    "import collections  # collections contains specialized container datatypes\n",
    "Counter = collections.Counter([\"a\", \"b\", \"a\", \"c\", \"b\", \"a\"])\n",
    "print(\"collections.Counter: Character frequency count:\", Counter)\n",
    "\n",
    "import bisect  # bisect helps to maintain a list in sorted order\n",
    "arr = [1, 3, 4, 7]\n",
    "bisect.insort(arr, 5)\n",
    "print(\"bisect.insort: List after binary insertion:\", arr)\n",
    "\n",
    "import os  # os provides a way of using operating system dependent functionality\n",
    "print(\"os.getcwd: Current working directory:\", os.getcwd())\n",
    "\n",
    "import sys  # sys provides access to system-specific parameters and functions\n",
    "print(\"sys.version: Python version info:\", sys.version)\n",
    "\n",
    "import json  # json allows encoding and decoding JSON data\n",
    "data = {\"name\": \"Alice\", \"age\": 30}\n",
    "json_str = json.dumps(data)\n",
    "print(\"json.dumps: JSON string:\", json_str)\n",
    "print(\"json.loads: Parsed JSON:\", json.loads(json_str))\n",
    "\n",
    "import time  # time provides time-related functions\n",
    "print(\"time.time: Current Unix timestamp:\", time.time())\n",
    "\n",
    "import re  # re provides regular expression matching operations\n",
    "match = re.search(r\"\\d+\", \"Order number: 12345\")\n",
    "if match:\n",
    "    print(\"re.search: Matched digits in string:\", match.group())"
   ]
  },
  {
   "cell_type": "markdown",
   "id": "8962ff8d",
   "metadata": {},
   "source": [
    "## 5. Virtual Environments & Package Managers & Jupyter Notebook\n",
    "Common virual envrionment management tools\n",
    "- venv\n",
    "- conda\n",
    "- poetry\n",
    "\n",
    "Use one of the before installing python dependencies using pip"
   ]
  },
  {
   "cell_type": "code",
   "execution_count": 18,
   "id": "836ff53b",
   "metadata": {},
   "outputs": [
    {
     "name": "stdout",
     "output_type": "stream",
     "text": [
      "zsh:1: parse error near `>'\n",
      "zsh:source:1: no such file or directory: myenv/bin/activate\n"
     ]
    }
   ],
   "source": [
    "# Run these in terminal or shell, not in notebook!\n",
    "!python -m venv <myenv>\n",
    "!source myenv/bin/activate  # On Windows: myenv\\Scripts\\activate\n",
    "\n",
    "\n",
    "#!conda create --name myenv python=3.10\n",
    "#!conda activate myenv\n",
    "#!poetry init\n",
    "#!poetry add requests"
   ]
  },
  {
   "cell_type": "markdown",
   "id": "0413e853",
   "metadata": {},
   "source": [
    "### pip\n",
    "\n",
    "Python dependencies manager."
   ]
  },
  {
   "cell_type": "code",
   "execution_count": null,
   "id": "1bd1a239",
   "metadata": {},
   "outputs": [],
   "source": [
    "!pip install requests\n",
    "!pip freeze > requirements.txt"
   ]
  },
  {
   "cell_type": "markdown",
   "id": "360e4ddd",
   "metadata": {},
   "source": [
    "!pip install jupyterlab\n",
    "!jupyter lab"
   ]
  },
  {
   "cell_type": "code",
   "execution_count": null,
   "id": "0cb5b0de",
   "metadata": {},
   "outputs": [],
   "source": [
    "!pip install notebook\n",
    "!jupyter notebook"
   ]
  },
  {
   "cell_type": "markdown",
   "id": "aaa420b8",
   "metadata": {},
   "source": [
    "## 6. Git Basics"
   ]
  },
  {
   "cell_type": "code",
   "execution_count": null,
   "id": "c65c6ac6",
   "metadata": {},
   "outputs": [],
   "source": [
    "!git init\n",
    "!git add .\n",
    "!git commit -m \"Initial commit\"\n",
    "!git status\n",
    "!git remote add origin https://github.com/your/repo.git\n",
    "!git push -u origin main"
   ]
  }
 ],
 "metadata": {
  "kernelspec": {
   "display_name": "Python 3 (ipykernel)",
   "language": "python",
   "name": "python3"
  },
  "language_info": {
   "codemirror_mode": {
    "name": "ipython",
    "version": 3
   },
   "file_extension": ".py",
   "mimetype": "text/x-python",
   "name": "python",
   "nbconvert_exporter": "python",
   "pygments_lexer": "ipython3",
   "version": "3.11.11"
  }
 },
 "nbformat": 4,
 "nbformat_minor": 5
}
